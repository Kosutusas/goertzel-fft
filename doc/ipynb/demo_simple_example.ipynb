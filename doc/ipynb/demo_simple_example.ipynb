{
 "cells": [
  {
   "cell_type": "markdown",
   "metadata": {},
   "source": [
    "## Install packages"
   ]
  },
  {
   "cell_type": "code",
   "execution_count": null,
   "metadata": {
    "scrolled": true
   },
   "outputs": [],
   "source": [
    "!pip install git+https://github.com/NaleRaphael/goertzel-fft.git"
   ]
  },
  {
   "cell_type": "code",
   "execution_count": null,
   "metadata": {},
   "outputs": [],
   "source": [
    "import numpy as np\n",
    "import gofft\n",
    "\n",
    "fs = 1000   # sampling frequency\n",
    "ft = 60     # target frequency to be evaluated (60 Hz)\n",
    "dur = 2     # duration of signal\n",
    "num = fs*dur  # sampling points\n",
    "t = np.linspace(0, dur, num)  # time series\n",
    "data = np.sin(2*np.pi*ft*t)   # signal to be evaluated (60 Hz)\n",
    "\n",
    "mag = gofft.alg.goertzel(data, fs, ft, fs)\n",
    "print(mag)  # 0.4969141358692001"
   ]
  },
  {
   "cell_type": "markdown",
   "metadata": {},
   "source": [
    "## Signal"
   ]
  },
  {
   "cell_type": "code",
   "execution_count": null,
   "metadata": {},
   "outputs": [],
   "source": [
    "import matplotlib.pyplot as plt\n",
    "from matplotlib.ticker import FuncFormatter\n",
    "\n",
    "fig, ax = plt.subplots()\n",
    "plt.plot(data)\n",
    "\n",
    "ax.xaxis.set_major_formatter(FuncFormatter(lambda x, pos: x/fs))\n",
    "ax.set_xlim(0, len(t))\n",
    "ax.set_title('Signal')\n",
    "ax.set_xlabel('Time (s)')\n",
    "ax.set_ylabel('Magnitude')\n",
    "\n",
    "plt.show()"
   ]
  },
  {
   "cell_type": "markdown",
   "metadata": {},
   "source": [
    "## Spectrum"
   ]
  },
  {
   "cell_type": "code",
   "execution_count": null,
   "metadata": {
    "scrolled": true
   },
   "outputs": [],
   "source": [
    "from scipy.fftpack import fft as scipyfft\n",
    "\n",
    "spectrum = np.abs(scipyfft(data)) / data.size\n",
    "l_half = spectrum.size // 2\n",
    "\n",
    "# find max frequency in spectrum\n",
    "idx_max = np.argmax(spectrum)\n",
    "\n",
    "fig, ax = plt.subplots()\n",
    "plt.plot(spectrum[:l_half])\n",
    "\n",
    "ax.xaxis.set_major_formatter(FuncFormatter(lambda x, pos: x/2))\n",
    "ax.set_xlim(0, l_half)\n",
    "ax.set_title('Spectrum')\n",
    "ax.set_xlabel('Frequency (Hz)')\n",
    "ax.set_ylabel('Magnitude')\n",
    "\n",
    "ax.annotate(\n",
    "    '({}, {})'.format(idx_max/num*fs, spectrum[idx_max]),\n",
    "    (idx_max, spectrum[idx_max])\n",
    ")\n",
    "\n",
    "plt.show()"
   ]
  }
 ],
 "metadata": {
  "kernelspec": {
   "display_name": "Python 3",
   "language": "python",
   "name": "python3"
  },
  "language_info": {
   "codemirror_mode": {
    "name": "ipython",
    "version": 3
   },
   "file_extension": ".py",
   "mimetype": "text/x-python",
   "name": "python",
   "nbconvert_exporter": "python",
   "pygments_lexer": "ipython3",
   "version": "3.7.3"
  }
 },
 "nbformat": 4,
 "nbformat_minor": 2
}
